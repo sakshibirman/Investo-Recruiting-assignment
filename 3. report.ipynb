{
 "cells": [
  {
   "cell_type": "markdown",
   "metadata": {},
   "source": [
    "\n",
    "## Stock Data Analysis Report for 2023\n",
    "\n",
    "### Overview:\n",
    "This report provides an analysis of the stock data for Apple Inc. (AAPL), Microsoft Corporation (MSFT), and Alphabet Inc. (GOOGL) for the year 2023.\n",
    "\n",
    "### 1. Closing Prices:\n",
    "The closing prices of the stocks show the trend in the market value of the companies over the year. Here are some key observations:\n",
    "- AAPL: Generally exhibited an upward trend throughout the year, with minor fluctuations.\n",
    "- MSFT: Showed a steady increase in value with occasional dips, indicating stability and growth.\n",
    "- GOOGL: Demonstrated a similar trend to MSFT, with consistent growth and occasional fluctuations.\n",
    "\n",
    "![Closing Prices](visualization outputs/output1.png)\n",
    "\n",
    "### 2. Volume Traded:\n",
    "Volume traded represents the total number of shares exchanged in a day, reflecting the level of market activity. Key insights include:\n",
    "- AAPL: Saw high trading volumes during certain periods, particularly around product launches and earnings announcements.\n",
    "- MSFT: Exhibited steady trading volumes, indicating sustained investor interest and liquidity.\n",
    "- GOOGL: Showed consistent trading activity, reflecting its position as a leading tech company.\n",
    "\n",
    "![Volume Traded](output2.png)\n",
    "\n",
    "### 3. Daily Returns Distribution:\n",
    "The distribution of daily returns provides insights into the volatility and risk associated with the stocks. Observations include:\n",
    "- AAPL, MSFT, and GOOGL: Generally followed a normal distribution, with occasional spikes indicating periods of high volatility.\n",
    "- Higher peaks and narrower distributions suggest lower volatility and higher stability.\n",
    "\n",
    "![Daily Returns Distribution](output3.png)\n",
    "\n",
    "### 4. Moving Averages:\n",
    "Moving averages smooth out price data to identify trends over time. Key points include:\n",
    "- The 50-day moving average (MA) provides short-term trend insights, while the 200-day MA indicates long-term trends.\n",
    "- Crossovers between short-term and long-term MAs may signal potential changes in market direction.\n",
    "\n",
    "![Moving Averages](output4.png)\n",
    "\n",
    "### Conclusion:\n",
    "Overall, the stock data analysis for AAPL, MSFT, and GOOGL in 2023 indicates positive growth trends with varying levels of volatility. Understanding these trends can aid investors in making informed decisions regarding portfolio management and trading strategies.\n",
    "\n",
    "---\n",
    "\n",
    "This report summarizes the key insights derived from the processed stock data and provides valuable information for investors and analysts."
   ]
  }
 ],
 "metadata": {
  "kernelspec": {
   "display_name": "Python 3",
   "language": "python",
   "name": "python3"
  },
  "language_info": {
   "name": "python",
   "version": "3.11.4"
  }
 },
 "nbformat": 4,
 "nbformat_minor": 2
}
